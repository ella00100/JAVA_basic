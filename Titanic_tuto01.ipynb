{
  "nbformat": 4,
  "nbformat_minor": 0,
  "metadata": {
    "colab": {
      "private_outputs": true,
      "provenance": [],
      "authorship_tag": "ABX9TyMhk18NN/Vp9Yb25CxDXwgR",
      "include_colab_link": true
    },
    "kernelspec": {
      "name": "python3",
      "display_name": "Python 3"
    },
    "language_info": {
      "name": "python"
    },
    "accelerator": "GPU",
    "gpuClass": "standard"
  },
  "cells": [
    {
      "cell_type": "markdown",
      "metadata": {
        "id": "view-in-github",
        "colab_type": "text"
      },
      "source": [
        "<a href=\"https://colab.research.google.com/github/ella00100/JAVA_basic/blob/main/Titanic_tuto01.ipynb\" target=\"_parent\"><img src=\"https://colab.research.google.com/assets/colab-badge.svg\" alt=\"Open In Colab\"/></a>"
      ]
    },
    {
      "cell_type": "markdown",
      "source": [
        "## Titanic "
      ],
      "metadata": {
        "id": "9YW6m94bH061"
      }
    },
    {
      "cell_type": "markdown",
      "source": [],
      "metadata": {
        "id": "1J96T0V4Iqij"
      }
    },
    {
      "cell_type": "markdown",
      "source": [
        "#캐글과 colab 연결하기\n",
        "1. kaggle에서 API token 다운\n",
        "2. kaggle과 colab library 불러오기\n",
        "3. file upload\n",
        "4. json 파일 이동\n",
        "5. 데이터 셋 불러오기 "
      ],
      "metadata": {
        "id": "OKKOtvHqIyQC"
      }
    },
    {
      "cell_type": "code",
      "execution_count": null,
      "metadata": {
        "id": "6v9EOEqVcPvc"
      },
      "outputs": [],
      "source": [
        "!pip install kaggle\n",
        "from google.colab import files\n",
        "files.upload()"
      ]
    },
    {
      "cell_type": "code",
      "source": [
        "!ls -lha kaggle.json"
      ],
      "metadata": {
        "id": "xJFwtImFJMWf"
      },
      "execution_count": null,
      "outputs": []
    },
    {
      "cell_type": "code",
      "source": [
        "!mkdir -p ~/.kaggle\n",
        "!cp kaggle.json ~/.kaggle/\n",
        "# Permission Warning이 발생하지 않도록 해줍니다.\n",
        "!chmod 600 ~/.kaggle/kaggle.json\n",
        "# 내가 참가한 대회 리스트 확인\n",
        "!kaggle competitions list"
      ],
      "metadata": {
        "id": "Jw5b68hYc3Mc"
      },
      "execution_count": null,
      "outputs": []
    },
    {
      "cell_type": "code",
      "source": [
        "!kaggle competitions download -c titanic"
      ],
      "metadata": {
        "id": "PPhsRC9nJYiK"
      },
      "execution_count": null,
      "outputs": []
    },
    {
      "cell_type": "code",
      "source": [
        "!ls\n"
      ],
      "metadata": {
        "id": "YuoEPTWqWEwn"
      },
      "execution_count": null,
      "outputs": []
    },
    {
      "cell_type": "code",
      "source": [
        "!unzip titanic.zip"
      ],
      "metadata": {
        "id": "8x9mgCYXWJ2G"
      },
      "execution_count": null,
      "outputs": []
    },
    {
      "cell_type": "markdown",
      "source": [
        "라이브러리 불러오기"
      ],
      "metadata": {
        "id": "8Qs6tPrsX-K8"
      }
    },
    {
      "cell_type": "code",
      "source": [
        "import numpy as np\n",
        "import pandas as pd\n",
        "import matplotlib.pyplot as plt\n",
        "import seaborn as sns\n",
        "\n",
        "plt.style.use('seaborn')\n",
        "sns.set(font_scale=2.5)\n",
        "\n",
        "import missingno as msno #null data를 쉽게 보여주는 library\n",
        "import warnings\n",
        "warnings.filterwarnings('ignore')\n",
        "\n",
        "#plot를 새로운 창이 아니고 바로 볼 수 있도록 inline 사용\n",
        "%matplotlib inline "
      ],
      "metadata": {
        "id": "V8Rd7oCyWvMx"
      },
      "execution_count": null,
      "outputs": []
    },
    {
      "cell_type": "markdown",
      "source": [
        "# 1. Data set 확인"
      ],
      "metadata": {
        "id": "iogAGxLXY6c4"
      }
    },
    {
      "cell_type": "code",
      "source": [
        "df_train = pd.read_csv('train.csv')\n",
        "df_test = pd.read_csv('test.csv')"
      ],
      "metadata": {
        "id": "cNweVpU9Yhb2"
      },
      "execution_count": null,
      "outputs": []
    },
    {
      "cell_type": "code",
      "source": [
        "#상위 5개 데이터 출력\n",
        "df_train.head()"
      ],
      "metadata": {
        "id": "_CDLRFrEZLZa"
      },
      "execution_count": null,
      "outputs": []
    },
    {
      "cell_type": "markdown",
      "source": [
        "- 생존 예측 시스템 구축\n",
        "- feature : Pclass, Age, Sibsp, Parch, Fare\n",
        "- target label : Survived"
      ],
      "metadata": {
        "id": "LIeceqBqZlsF"
      }
    },
    {
      "cell_type": "code",
      "source": [
        "#feature가 가진 통계치 반환\n",
        "df_train.describe()"
      ],
      "metadata": {
        "id": "f7wrE1xgZXXF"
      },
      "execution_count": null,
      "outputs": []
    },
    {
      "cell_type": "markdown",
      "source": [
        "# 1.1 NULL 데이터 확인"
      ],
      "metadata": {
        "id": "iDcaRYrBaMHk"
      }
    },
    {
      "cell_type": "code",
      "source": [
        "#데이터의 null데이터 비중확인 \n",
        "for col in df_train.columns:\n",
        "  msg = 'column: {:>10}\\t Percent of NaN value: {:.2f}%'.format(col,100*(df_train[col].isnull().sum() / df_train[col].shape[0]))\n",
        "  print(msg)\n",
        "\n",
        "#Age와 Cabin에 null 데이터 존재"
      ],
      "metadata": {
        "id": "cRcYeeROZ5PQ"
      },
      "execution_count": null,
      "outputs": []
    },
    {
      "cell_type": "code",
      "source": [
        "for col in df_test.columns:\n",
        "  msg = 'column: {:10}\\t Percent of NaN value: {:.2f}%'.format(col, 100*(df_test[col].isnull().sum() /df_test[col].shape[0]))\n",
        "  print(msg)\n",
        "\n",
        "#Age와 Cabin에 null 데이터 존재재"
      ],
      "metadata": {
        "id": "1xCCO4gRayoJ"
      },
      "execution_count": null,
      "outputs": []
    },
    {
      "cell_type": "code",
      "source": [
        "#null 값의 분포포를 시각화 하여 보기\n",
        "msno.matrix(df=df_train.iloc[:,:], figsize=(8,8), color = (0.2, 0.5, 0.2))"
      ],
      "metadata": {
        "id": "hgFNWy-ibUD4"
      },
      "execution_count": null,
      "outputs": []
    },
    {
      "cell_type": "code",
      "source": [
        "msno.bar(df=df_train.iloc[:,:], figsize=(8,8), color = (0.7, 0.7, 0.3))"
      ],
      "metadata": {
        "id": "bWn1V6LGbaMt"
      },
      "execution_count": null,
      "outputs": []
    },
    {
      "cell_type": "code",
      "source": [
        "msno.bar(df=df_test.iloc[:,:], figsize=(8,8), color = (0.8, 0.5, 0.2))"
      ],
      "metadata": {
        "id": "ORPBKEb6cgNZ"
      },
      "execution_count": null,
      "outputs": []
    },
    {
      "cell_type": "markdown",
      "source": [
        "# 1.2 Target label 확인"
      ],
      "metadata": {
        "id": "5W-mhCrJdItK"
      }
    },
    {
      "cell_type": "code",
      "source": [
        "#frame과 subplot 생성 \n",
        "f, ax = plt.subplots(1,2,figsize = (18,8)) #plt(1행, 2열, figsize)\n",
        "\n",
        "#df_train의 생존 비율 원그래프 그리기\n",
        "df_train['Survived'].value_counts().plot.pie(\n",
        "    explode=[0,0.1], autopct=\"%1.1f%%\",ax=ax[0], shadow=True)\n",
        "#explode:파이 분리시키기, autopct: 형식, ax=첫번째 subplot, shadow: 그림자\n",
        "\n",
        "ax[0].set_title('Pie plot - Survived')\n",
        "ax[0].set_ylabel('')\n",
        "\n",
        "#df_train의 생존 비율 countPlot 그리기\n",
        "sns.countplot(x='Survived', data=df_train, ax=ax[1])\n",
        "ax[1].set_title('Count plot - Survived')\n",
        "\n",
        "plt.show()\n"
      ],
      "metadata": {
        "id": "Yr3j7F8OdB4W"
      },
      "execution_count": null,
      "outputs": []
    },
    {
      "cell_type": "markdown",
      "source": [
        "# 2. EDA(Exploratory data analysis)\n",
        "데이터를 탐색하고 분석하는 과정\n",
        "\n",
        "EDA는 데이터의 특성과 구조를 파악하고, 데이터의 분포와 상관관계를 조사하며, 데이터에 대한 이해도를 높이는 과정이다."
      ],
      "metadata": {
        "id": "dcLXnshWf3go"
      }
    },
    {
      "cell_type": "markdown",
      "source": [
        "# 2.1 Pclass\n",
        "\n",
        "- 서수형 data, 카테고리, 순서가 있는 data type"
      ],
      "metadata": {
        "id": "WZTOOty6gZ8L"
      }
    },
    {
      "cell_type": "code",
      "source": [
        "df_train[['Pclass', 'Survived']]"
      ],
      "metadata": {
        "id": "NAWzzyRKhJjN"
      },
      "execution_count": null,
      "outputs": []
    },
    {
      "cell_type": "code",
      "source": [
        "#Pclass에 따른 인원\n",
        "df_train[['Pclass', 'Survived']].groupby(['Pclass'], as_index=True).count()"
      ],
      "metadata": {
        "id": "S1OI2Zh6dUsH"
      },
      "execution_count": null,
      "outputs": []
    },
    {
      "cell_type": "code",
      "source": [
        "#Pclass에 따른 생존인원\n",
        "df_train[['Pclass','Survived']].groupby(['Pclass'], as_index=True).sum()"
      ],
      "metadata": {
        "id": "fxCHih3Fgv3x"
      },
      "execution_count": null,
      "outputs": []
    },
    {
      "cell_type": "code",
      "source": [
        "#pandas를 이용하여 crosstab으로 출력\n",
        "pd.crosstab(df_train['Pclass'], df_train['Survived'], \n",
        "            margins=True).style.background_gradient(cmap='gist_earth_r')"
      ],
      "metadata": {
        "id": "CDlEErDKg-LM"
      },
      "execution_count": null,
      "outputs": []
    },
    {
      "cell_type": "code",
      "source": [
        "#생존비를 막대 그래프로 출력\n",
        "df_train[['Pclass', 'Survived']].groupby(['Pclass'], as_index=True\n",
        "                        ).mean().sort_values(by='Survived',ascending=False).plot.bar()"
      ],
      "metadata": {
        "id": "lJqNtUqdhpBB"
      },
      "execution_count": null,
      "outputs": []
    },
    {
      "cell_type": "code",
      "source": [
        "y_position = 1.02\n",
        "f, ax = plt.subplots(1, 2, figsize=(18,8))\n",
        "\n",
        "#Pclass별 탑승객 인원 출력력\n",
        "df_train['Pclass'].value_counts().plot.bar(color=['#CD7F32', '#FFDF00', '#D3D3D3'], ax=ax[0])\n",
        "ax[0].set_title('Number of Passengers By Pclass', y=y_position)\n",
        "ax[0].set_ylabel('Count')\n",
        "\n",
        "#Pclass별 생존인원/사망인원 출력\n",
        "sns.countplot(x='Pclass', hue='Survived', data=df_train, ax=ax[1])\n",
        "ax[1].set_title('Pclass: Survived vs Dead', y=y_position)\n",
        "plt.show()\n"
      ],
      "metadata": {
        "id": "Eb13voJNixcJ"
      },
      "execution_count": null,
      "outputs": []
    },
    {
      "cell_type": "markdown",
      "source": [
        "- 첫번째 그래프 : 3등석의 탑승객이 1/2등석에 2배 이상임\n",
        "- 두번째 그래프 : 탑승 class가 낮아질수록 생존확률도 낮아짐\n",
        "- 3등석의 경우 생존비율이 특히 낮음\n"
      ],
      "metadata": {
        "id": "yQvOk30fk7XO"
      }
    },
    {
      "cell_type": "markdown",
      "source": [
        "# 2.2 Sex"
      ],
      "metadata": {
        "id": "CsCJRo4sldO2"
      }
    },
    {
      "cell_type": "code",
      "source": [
        "f, ax = plt.subplots(1, 2, figsize=(18,8))\n",
        "\n",
        "#성별 생존 비율 막대 그래프\n",
        "df_train[['Sex', 'Survived']].groupby(['Sex'], as_index=True\n",
        "                                      ).mean().plot.bar(ax=ax[0])\n",
        "ax[0].set_title('Survived vs Sex')\n",
        "\n",
        "#성별 생존자/사망자 수 \n",
        "sns.countplot(x='Sex', hue='Survived', data=df_train, ax=ax[1])\n",
        "ax[1].set_title('Sex: Survived vs Dead')\n",
        "plt.show()"
      ],
      "metadata": {
        "id": "pk6cuDt3jdPZ"
      },
      "execution_count": null,
      "outputs": []
    },
    {
      "cell_type": "code",
      "source": [
        "#성별 생존 비율\n",
        "df_train[['Sex', 'Survived']].groupby(['Sex'], as_index=False).mean().sort_values(by='Survived', ascending=False)"
      ],
      "metadata": {
        "id": "sZamL7fflj1U"
      },
      "execution_count": null,
      "outputs": []
    },
    {
      "cell_type": "code",
      "source": [
        "pd.crosstab(df_train['Sex'], df_train['Survived'], margins=True).style.background_gradient(cmap='gist_gray_r')"
      ],
      "metadata": {
        "id": "WT1iWs3wm8Jj"
      },
      "execution_count": null,
      "outputs": []
    },
    {
      "cell_type": "markdown",
      "source": [
        "# 2.3 Both Sex and Pclass"
      ],
      "metadata": {
        "id": "sA4XRYdZnh9l"
      }
    },
    {
      "cell_type": "code",
      "source": [
        "#Pclass 별, 성별에 따른 생존 비율\n",
        "sns.catplot(x='Pclass', y='Survived', hue='Sex', kind='point', data=df_train,  height=5, aspect=1.5)"
      ],
      "metadata": {
        "id": "wMBM-QXxnPRO"
      },
      "execution_count": null,
      "outputs": []
    },
    {
      "cell_type": "code",
      "source": [
        "#각각의 Pclass의 성별 생존비율\n",
        "sns.catplot(x='Sex', y='Survived', col='Pclass', kind='point', data=df_train,  height=5, aspect=1.5)"
      ],
      "metadata": {
        "id": "zmBvaMRMn0d0"
      },
      "execution_count": null,
      "outputs": []
    },
    {
      "cell_type": "markdown",
      "source": [
        "# 2.4 Age"
      ],
      "metadata": {
        "id": "sPZJHkNQrHeR"
      }
    },
    {
      "cell_type": "code",
      "source": [
        "#탑승객의 최고/최소/평균 나이\n",
        "\n",
        "print('최고령자 탑승객 : {:.1f} Years'.format(df_train['Age'].max()))\n",
        "print('최연소자 탐승객 : {:.1f} Years'.format(df_train['Age'].min()))\n",
        "print('탑승객 평균 나이 : {:.1f} Years'.format(df_train['Age'].mean()))"
      ],
      "metadata": {
        "id": "hK-Me6QuqyTX"
      },
      "execution_count": null,
      "outputs": []
    },
    {
      "cell_type": "code",
      "source": [
        "\n",
        "#생존에 따른 Age의 histogram\n",
        "\n",
        "fig, x = plt.subplots(1, 1, figsize=(9,5))\n",
        "sns.kdeplot(df_train[df_train['Survived'] == 1]['Age'], ax=x)\n",
        "sns.kdeplot(df_train[df_train['Survived'] == 0]['Age'], ax=x)\n",
        "plt.legend(['Survived == 1', 'Survived == 0']) #범례 추가\n",
        "plt.show()\n"
      ],
      "metadata": {
        "id": "WMuz-4-frjMO"
      },
      "execution_count": null,
      "outputs": []
    },
    {
      "cell_type": "code",
      "source": [
        "#Pclass 별 나이 분포포 히스토그램\n",
        "\n",
        "plt.figure(figsize=(8,6))\n",
        "df_train['Age'][df_train['Pclass']==1].plot(kind='kde')\n",
        "df_train['Age'][df_train['Pclass']==2].plot(kind='kde')\n",
        "df_train['Age'][df_train['Pclass']==3].plot(kind='kde')\n",
        "\n",
        "plt.xlabel('Age')\n",
        "plt.title('Age Distribution within classes')\n",
        "plt.legend(['1st Class', '2nd Class', '3rd Class'])"
      ],
      "metadata": {
        "id": "tFFgct2msDwV"
      },
      "execution_count": null,
      "outputs": []
    },
    {
      "cell_type": "code",
      "source": [
        "#나이증가에 따른 생존율 변화\n",
        "\n",
        "cummulate_survival_ratio =[]\n",
        "for i in range(1,80): #나이를 80세까지 넓혀가며 탐색색\n",
        "  cummulate_survival_ratio.append(\n",
        "      df_train[df_train['Age']<i]['Survived'].sum()/\n",
        "      len(df_train[df_train['Age']<i]['Survived']))\n",
        "plt.figure(figsize=(7,7))\n",
        "plt.plot(cummulate_survival_ratio)\n",
        "plt.title('Sruvival rate change depending on range of Age', y=1.02)\n",
        "plt.ylabel('Survival rate')\n",
        "plt.xlabel('Range of Age(0~x)')\n",
        "plt.show()"
      ],
      "metadata": {
        "id": "h36IrNbd3Pel"
      },
      "execution_count": null,
      "outputs": []
    },
    {
      "cell_type": "markdown",
      "source": [
        "# 2.5 Pclass, Sex, Age"
      ],
      "metadata": {
        "id": "ap_pLmD05yzu"
      }
    },
    {
      "cell_type": "code",
      "source": [
        "f,ax= plt.subplots(1,2,figsize=(18,8))\n",
        "\n",
        "#Pclass와 Age의 생존 분포\n",
        "sns.violinplot(x=\"Pclass\", y=\"Age\", hue=\"Survived\", data=df_train, scale='count', split=True, ax=ax[0])\n",
        "ax[0].set_title('Pclass and Age vs Survived')\n",
        "ax[0].set_yticks(range(0,110,10))\n",
        "\n",
        "#sex와 Age의 생존 분보\n",
        "sns.violinplot(x='Sex', y=\"Age\", hue=\"Survived\", data=df_train, scale='count', split=True, ax=ax[1])\n",
        "ax[1].set_title(\"Sex and Age vs Survived\")\n",
        "ax[1].set_yticks(range(0,110,10))\n",
        "plt.show()"
      ],
      "metadata": {
        "id": "wimybOJ538vh"
      },
      "execution_count": null,
      "outputs": []
    },
    {
      "cell_type": "markdown",
      "source": [
        "# 2.6 Embarked\n",
        ": 탑승한 항구"
      ],
      "metadata": {
        "id": "P4meMMsd7gAd"
      }
    },
    {
      "cell_type": "code",
      "source": [
        "f, ax = plt.subplots(1,1,figsize=(7,7))\n",
        "\n",
        "#탑승한 항구에 따른 생존률률\n",
        "df_train[['Embarked', 'Survived']].groupby(['Embarked'],as_index=True\n",
        "                    ).mean().sort_values(by='Survived', ascending=False).plot.bar(ax=ax)"
      ],
      "metadata": {
        "id": "v6EV533w6D89"
      },
      "execution_count": null,
      "outputs": []
    },
    {
      "cell_type": "code",
      "source": [
        "f,ax=plt.subplots(2,2,figsize=(20,15))\n",
        "\n",
        "#탑승한 항구 별 탑승객 수\n",
        "sns.countplot(x='Embarked', data=df_train, ax=ax[0,0])\n",
        "ax[0,0].set_title('(1) No. Of Passengers Boarded')\n",
        "\n",
        "#탑승한 항구에 따른 성별 탑승객 수\n",
        "sns.countplot(x='Embarked', hue='Sex', data=df_train, ax=ax[0,1])\n",
        "ax[0,1].set_title('(2) Male-Female Split for Embarked')\n",
        "\n",
        "#탑승한 항구 별 생존 인원원\n",
        "sns.countplot(x='Embarked', hue='Survived', data=df_train, ax=ax[1,0])\n",
        "ax[1,0].set_title('(3) Embarked vs Survived')\n",
        "\n",
        "#탑승한 항구에 따른른 Pclass별 탑승객 수 \n",
        "sns.countplot(x='Embarked', hue='Pclass', data=df_train, ax=ax[1,1])\n",
        "ax[1,1].set_title('(4) Embarked vs Pclass')\n",
        "\n",
        "plt.subplots_adjust(wspace=0.2, hspace=0.5) #subplot 간 간격 조절\n",
        "plt.show()"
      ],
      "metadata": {
        "id": "tr9iaiuU762s"
      },
      "execution_count": null,
      "outputs": []
    },
    {
      "cell_type": "markdown",
      "source": [
        "# 2.7 Family - SibSp(형제 자매) + Parch(부모, 자녀)\n"
      ],
      "metadata": {
        "id": "zM0SqF3c-nXJ"
      }
    },
    {
      "cell_type": "code",
      "source": [
        "#형제/자매, 부모/자녀 열을 합하여 FamilySize 열 만들기기\n",
        "df_train['FamilySize'] = df_train['SibSp'] + df_train['Parch'] +1\n",
        "df_train['FamilySize'] = df_train['SibSp'] + df_train['Parch'] +1\n",
        "\n",
        "print(\"Maximum size of Family: \", df_train['FamilySize'].max())\n",
        "print(\"Minimum size of Family: \", df_train['FamilySize'].min())"
      ],
      "metadata": {
        "id": "-of-RFCX81H7"
      },
      "execution_count": null,
      "outputs": []
    },
    {
      "cell_type": "code",
      "source": [
        "f,ax = plt.subplots(1,3,figsize=(40,10))\n",
        "\n",
        "#FamilySize별 탑승객 수 \n",
        "sns.countplot(x='FamilySize', data=df_train, ax=ax[0])\n",
        "ax[0].set_title('(1) No. Of Passengers Boarded', y=1.02)\n",
        "\n",
        "#FamilySize별 생존/사망인원수\n",
        "sns.countplot(x='FamilySize', hue='Survived', data=df_train, ax=ax[1])\n",
        "ax[1].set_title('(2) Survived countplot depending on FamilySize', y=1.02)\n",
        "\n",
        "\n",
        "#FamilySize에따른 생존비율\n",
        "df_train[['FamilySize', 'Survived']].groupby(['FamilySize'], as_index=True\n",
        "          ).mean().sort_values(by='Survived', ascending=False).plot.bar(ax=ax[2])\n",
        "ax[2].set_title('(3) Survived rate depending on FamilySize', y=1.02)\n",
        "\n",
        "plt.subplots_adjust(wspace=0.2, hspace=0.5)\n",
        "plt.show()"
      ],
      "metadata": {
        "id": "4p8T95Ig-9os"
      },
      "execution_count": null,
      "outputs": []
    },
    {
      "cell_type": "markdown",
      "source": [
        "# 2.8 Fare\n",
        "탑승요금"
      ],
      "metadata": {
        "id": "1BZdxJufBIo5"
      }
    },
    {
      "cell_type": "code",
      "source": [
        "fig, ax = plt.subplots(1,1,figsize=(8,8))\n",
        "\n",
        "#fare에 따른 분포 그래프프\n",
        "g = sns.distplot(df_train['Fare'], color='b', label='Skewness : {:.2f}'.format(\n",
        "    df_train['Fare'].skew()),ax=ax) #skew=왜도\n",
        "g=g.legend(loc='best') #범례위치 자동지정\n"
      ],
      "metadata": {
        "id": "Js_Nw6jd_k4y"
      },
      "execution_count": null,
      "outputs": []
    },
    {
      "cell_type": "code",
      "source": [
        "#Fare열에 있는 결측값을 평균값으로 대체 \n",
        "#데이터프레임.loc[조건] : 조건에 부한하는 행 선택\n",
        "df_test.loc[df_test.Fare.isnull(),'Fare']=df_test['Fare'].mean()\n",
        "\n",
        "df_train['Fare'] = df_train['Fare'].map(lambda i: np.log(i) if i > 0 else 0)\n",
        "df_test['Fare'] = df_test['Fare'].map(lambda i: np.log(i) if i > 0 else 0)\n",
        "\n"
      ],
      "metadata": {
        "id": "p_v92du6BfCA"
      },
      "execution_count": null,
      "outputs": []
    },
    {
      "cell_type": "code",
      "source": [
        "fig, ax = plt.subplots(1,1,figsize=(8,8))\n",
        "g = sns.distplot(df_train['Fare'], color='b', label='Skewness : {:.2f}'.format(\n",
        "    df_train['Fare'].skew()), ax=ax)\n",
        "g=g.legend(loc='best')"
      ],
      "metadata": {
        "id": "H5Z9C2_UCY7Z"
      },
      "execution_count": null,
      "outputs": []
    },
    {
      "cell_type": "markdown",
      "source": [
        "# 2.9 Cabin\n",
        "null 비율이 약 80%이므로 모델에서제외"
      ],
      "metadata": {
        "id": "98XHap3BPuWN"
      }
    },
    {
      "cell_type": "code",
      "source": [
        "df_train.head()"
      ],
      "metadata": {
        "id": "3KiTGbOJDvAW"
      },
      "execution_count": null,
      "outputs": []
    },
    {
      "cell_type": "markdown",
      "source": [
        "# 2.10 Ticket"
      ],
      "metadata": {
        "id": "MbwEJbgHQBTG"
      }
    },
    {
      "cell_type": "code",
      "source": [
        "df_train['Ticket'].value_counts()"
      ],
      "metadata": {
        "id": "HVkRl_6IP6O8"
      },
      "execution_count": null,
      "outputs": []
    },
    {
      "cell_type": "code",
      "source": [],
      "metadata": {
        "id": "ppuDTpPBRRo2"
      },
      "execution_count": null,
      "outputs": []
    }
  ]
}